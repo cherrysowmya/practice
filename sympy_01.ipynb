# Solving Equations and Writing Expressions with SymPy and Python
