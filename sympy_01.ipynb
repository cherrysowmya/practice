{
  "nbformat": 4,
  "nbformat_minor": 0,
  "metadata": {
    "colab": {
      "provenance": [],
      "toc_visible": true,
      "authorship_tag": "ABX9TyMim3W/CLWsSyUExbJbkJhf",
      "include_colab_link": true
    },
    "kernelspec": {
      "name": "python3",
      "display_name": "Python 3"
    },
    "language_info": {
      "name": "python"
    }
  },
  "cells": [
    {
      "cell_type": "markdown",
      "metadata": {
        "id": "view-in-github",
        "colab_type": "text"
      },
      "source": [
        "<a href=\"https://colab.research.google.com/github/cherrysowmya/practice/blob/main/sympy_01.ipynb\" target=\"_parent\"><img src=\"https://colab.research.google.com/assets/colab-badge.svg\" alt=\"Open In Colab\"/></a>"
      ]
    },
    {
      "cell_type": "markdown",
      "source": [
        "# Solving Equations and Writing Expressions with SymPy and Python"
      ],
      "metadata": {
        "id": "BIhTuLNFyLez"
      }
    },
    {
      "cell_type": "code",
      "execution_count": null,
      "metadata": {
        "id": "MGVa8hQVTm_X"
      },
      "outputs": [],
      "source": [
        "from sympy import symbols, exp, Eq, solve"
      ]
    },
    {
      "cell_type": "code",
      "source": [
        "x, y =  symbols('x y')\n",
        "expr = 2 * x + y\n",
        "expr"
      ],
      "metadata": {
        "colab": {
          "base_uri": "https://localhost:8080/",
          "height": 39
        },
        "id": "djcv6dmxTxR_",
        "outputId": "b0205ff0-ded1-4042-f6ac-5dfffa072bab"
      },
      "execution_count": null,
      "outputs": [
        {
          "output_type": "execute_result",
          "data": {
            "text/plain": [
              "2*x + y"
            ],
            "text/latex": "$\\displaystyle 2 x + y$"
          },
          "metadata": {},
          "execution_count": 2
        }
      ]
    },
    {
      "cell_type": "code",
      "source": [
        "expr.subs(x, 2)"
      ],
      "metadata": {
        "colab": {
          "base_uri": "https://localhost:8080/",
          "height": 39
        },
        "id": "SdyACDQSUhTq",
        "outputId": "4597f719-96c9-4783-8a01-899251dc4ca6"
      },
      "execution_count": null,
      "outputs": [
        {
          "output_type": "execute_result",
          "data": {
            "text/plain": [
              "y + 4"
            ],
            "text/latex": "$\\displaystyle y + 4$"
          },
          "metadata": {},
          "execution_count": 3
        }
      ]
    },
    {
      "cell_type": "code",
      "source": [
        "x, y, z = symbols('x y z')\n",
        "expr = 2*x + y\n",
        "expr2 = expr.subs(x, z)\n",
        "expr2"
      ],
      "metadata": {
        "colab": {
          "base_uri": "https://localhost:8080/",
          "height": 39
        },
        "id": "MISwpw6AU0f0",
        "outputId": "bd521029-3323-44ca-a388-b9288b98cfee"
      },
      "execution_count": null,
      "outputs": [
        {
          "output_type": "execute_result",
          "data": {
            "text/plain": [
              "y + 2*z"
            ],
            "text/latex": "$\\displaystyle y + 2 z$"
          },
          "metadata": {},
          "execution_count": 4
        }
      ]
    },
    {
      "cell_type": "code",
      "source": [
        "x, y, z = symbols('x y z')\n",
        "expr = 2*x + y\n",
        "expr2 = expr.subs(y, 2*x**2 + z**(-3))\n",
        "expr2"
      ],
      "metadata": {
        "colab": {
          "base_uri": "https://localhost:8080/",
          "height": 51
        },
        "id": "hmc36xZcVC0O",
        "outputId": "024a8638-3a72-42d1-ba7f-e59e5dfcfeb7"
      },
      "execution_count": null,
      "outputs": [
        {
          "output_type": "execute_result",
          "data": {
            "text/plain": [
              "2*x**2 + 2*x + z**(-3)"
            ],
            "text/latex": "$\\displaystyle 2 x^{2} + 2 x + \\frac{1}{z^{3}}$"
          },
          "metadata": {},
          "execution_count": 5
        }
      ]
    },
    {
      "cell_type": "code",
      "source": [
        "n0, Qv, R, T = symbols('n0 Qv R T')\n",
        "expr = n0*exp(-Qv/(R*T))\n",
        "expr"
      ],
      "metadata": {
        "colab": {
          "base_uri": "https://localhost:8080/",
          "height": 42
        },
        "id": "PFQuswz0Yo8Z",
        "outputId": "c1a05db5-dde1-4baf-90d1-27c8849f6d35"
      },
      "execution_count": null,
      "outputs": [
        {
          "output_type": "execute_result",
          "data": {
            "text/plain": [
              "n0*exp(-Qv/(R*T))"
            ],
            "text/latex": "$\\displaystyle n_{0} e^{- \\frac{Qv}{R T}}$"
          },
          "metadata": {},
          "execution_count": 6
        }
      ]
    },
    {
      "cell_type": "code",
      "source": [
        "expr.subs(n0, 3.48e-6).subs(Qv,12700).subs(R, 8031).subs(T, 1000+273)"
      ],
      "metadata": {
        "colab": {
          "base_uri": "https://localhost:8080/",
          "height": 56
        },
        "id": "jtEPS17lY9M4",
        "outputId": "17840d5e-eded-4f20-f294-15c08d4f77db"
      },
      "execution_count": null,
      "outputs": [
        {
          "output_type": "execute_result",
          "data": {
            "text/plain": [
              "3.48e-6*exp(-12700/10223463)"
            ],
            "text/latex": "$\\displaystyle \\frac{3.48 \\cdot 10^{-6}}{e^{\\frac{12700}{10223463}}}$"
          },
          "metadata": {},
          "execution_count": 7
        }
      ]
    },
    {
      "cell_type": "code",
      "source": [
        "expr2 = expr.subs(n0, 3.48e-6).subs(Qv,12700).subs(R, 8031).subs(T, 1000+273)\n",
        "expr2.evalf()"
      ],
      "metadata": {
        "colab": {
          "base_uri": "https://localhost:8080/",
          "height": 37
        },
        "id": "lYNikN6iZKnU",
        "outputId": "5b389e4c-2686-4876-e684-cc8f34532d98"
      },
      "execution_count": null,
      "outputs": [
        {
          "output_type": "execute_result",
          "data": {
            "text/plain": [
              "3.47567968697765e-6"
            ],
            "text/latex": "$\\displaystyle 3.47567968697765 \\cdot 10^{-6}$"
          },
          "metadata": {},
          "execution_count": 8
        }
      ]
    },
    {
      "cell_type": "code",
      "source": [
        "x, y = symbols('x y')\n",
        "eq1 = Eq(2*x - y - 1, 0)\n",
        "eq2 = Eq(x + y - 5, 0)\n",
        "sol = solve((eq1, eq2),(x, y))\n",
        "sol"
      ],
      "metadata": {
        "colab": {
          "base_uri": "https://localhost:8080/"
        },
        "id": "L_kJ35TSaZse",
        "outputId": "210f0d90-13a8-4474-fb30-8f5f65205d1c"
      },
      "execution_count": null,
      "outputs": [
        {
          "output_type": "execute_result",
          "data": {
            "text/plain": [
              "{x: 2, y: 3}"
            ]
          },
          "metadata": {},
          "execution_count": 9
        }
      ]
    },
    {
      "cell_type": "code",
      "source": [
        "print(f'The solution is x = {sol[x]}, y = {sol[y]}')"
      ],
      "metadata": {
        "colab": {
          "base_uri": "https://localhost:8080/"
        },
        "id": "iwtBLlv0awpU",
        "outputId": "72561d2b-a9fc-49d1-a301-50aa901c32a5"
      },
      "execution_count": null,
      "outputs": [
        {
          "output_type": "stream",
          "name": "stdout",
          "text": [
            "The solution is x = 2, y = 3\n"
          ]
        }
      ]
    }
  ]
}